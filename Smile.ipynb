{
 "cells": [
  {
   "cell_type": "code",
   "execution_count": 1,
   "metadata": {},
   "outputs": [],
   "source": [
    "import pandas as pd"
   ]
  },
  {
   "cell_type": "code",
   "execution_count": 2,
   "metadata": {},
   "outputs": [],
   "source": [
    "hospice_df = pd.read_csv('data/Hospice_General_Information.csv')"
   ]
  },
  {
   "cell_type": "code",
   "execution_count": 3,
   "metadata": {},
   "outputs": [
    {
     "data": {
      "text/html": [
       "<div>\n",
       "<style scoped>\n",
       "    .dataframe tbody tr th:only-of-type {\n",
       "        vertical-align: middle;\n",
       "    }\n",
       "\n",
       "    .dataframe tbody tr th {\n",
       "        vertical-align: top;\n",
       "    }\n",
       "\n",
       "    .dataframe thead th {\n",
       "        text-align: right;\n",
       "    }\n",
       "</style>\n",
       "<table border=\"1\" class=\"dataframe\">\n",
       "  <thead>\n",
       "    <tr style=\"text-align: right;\">\n",
       "      <th></th>\n",
       "      <th>CMS Certification Number (CCN)</th>\n",
       "      <th>Facility Name</th>\n",
       "      <th>Address Line 1</th>\n",
       "      <th>Address Line 2</th>\n",
       "      <th>City</th>\n",
       "      <th>State</th>\n",
       "      <th>Zip Code</th>\n",
       "      <th>County Name</th>\n",
       "      <th>PhoneNumber</th>\n",
       "      <th>CMS Region</th>\n",
       "      <th>Ownership Type</th>\n",
       "      <th>Certification Date</th>\n",
       "    </tr>\n",
       "  </thead>\n",
       "  <tbody>\n",
       "    <tr>\n",
       "      <th>2889</th>\n",
       "      <td>441501</td>\n",
       "      <td>ALIVE HOSPICE INC</td>\n",
       "      <td>1718 PATTERSON ROAD</td>\n",
       "      <td>NaN</td>\n",
       "      <td>NASHVILLE</td>\n",
       "      <td>TN</td>\n",
       "      <td>37203</td>\n",
       "      <td>Davidson</td>\n",
       "      <td>(615) 327-1085</td>\n",
       "      <td>4</td>\n",
       "      <td>Non-Profit</td>\n",
       "      <td>04/10/1984</td>\n",
       "    </tr>\n",
       "    <tr>\n",
       "      <th>2890</th>\n",
       "      <td>441502</td>\n",
       "      <td>METHODIST ALLIANCE HOSPICE</td>\n",
       "      <td>6400 SHELBY VIEW DRIVE, SUITE 101</td>\n",
       "      <td>NaN</td>\n",
       "      <td>MEMPHIS</td>\n",
       "      <td>TN</td>\n",
       "      <td>38134</td>\n",
       "      <td>Shelby</td>\n",
       "      <td>(901) 516-1600</td>\n",
       "      <td>4</td>\n",
       "      <td>Non-Profit</td>\n",
       "      <td>08/31/1984</td>\n",
       "    </tr>\n",
       "    <tr>\n",
       "      <th>2891</th>\n",
       "      <td>441504</td>\n",
       "      <td>HOSPICE OF CHATTANOOGA INC</td>\n",
       "      <td>4411 OAKWOOD DRIVE</td>\n",
       "      <td>NaN</td>\n",
       "      <td>CHATTANOOGA</td>\n",
       "      <td>TN</td>\n",
       "      <td>37416</td>\n",
       "      <td>Hamilton</td>\n",
       "      <td>(423) 892-4289</td>\n",
       "      <td>4</td>\n",
       "      <td>Non-Profit</td>\n",
       "      <td>06/30/1986</td>\n",
       "    </tr>\n",
       "    <tr>\n",
       "      <th>2892</th>\n",
       "      <td>441506</td>\n",
       "      <td>AMEDISYS HOSPICE CARE</td>\n",
       "      <td>6570 STAGE ROAD SUITE 110</td>\n",
       "      <td>NaN</td>\n",
       "      <td>BARTLETT</td>\n",
       "      <td>TN</td>\n",
       "      <td>38134</td>\n",
       "      <td>Shelby</td>\n",
       "      <td>(901) 680-0378</td>\n",
       "      <td>4</td>\n",
       "      <td>For-Profit</td>\n",
       "      <td>02/09/1987</td>\n",
       "    </tr>\n",
       "    <tr>\n",
       "      <th>2893</th>\n",
       "      <td>441507</td>\n",
       "      <td>NORTHCREST HOME HEALTH AND HOSPICE</td>\n",
       "      <td>212 NORTHCREST DRIVE</td>\n",
       "      <td>NaN</td>\n",
       "      <td>SPRINGFIELD</td>\n",
       "      <td>TN</td>\n",
       "      <td>37172</td>\n",
       "      <td>Robertson</td>\n",
       "      <td>(615) 384-9425</td>\n",
       "      <td>4</td>\n",
       "      <td>Other</td>\n",
       "      <td>07/13/1987</td>\n",
       "    </tr>\n",
       "  </tbody>\n",
       "</table>\n",
       "</div>"
      ],
      "text/plain": [
       "      CMS Certification Number (CCN)                       Facility Name  \\\n",
       "2889                          441501                   ALIVE HOSPICE INC   \n",
       "2890                          441502          METHODIST ALLIANCE HOSPICE   \n",
       "2891                          441504          HOSPICE OF CHATTANOOGA INC   \n",
       "2892                          441506               AMEDISYS HOSPICE CARE   \n",
       "2893                          441507  NORTHCREST HOME HEALTH AND HOSPICE   \n",
       "\n",
       "                         Address Line 1  Address Line 2         City State  \\\n",
       "2889                1718 PATTERSON ROAD             NaN    NASHVILLE    TN   \n",
       "2890  6400 SHELBY VIEW DRIVE, SUITE 101             NaN      MEMPHIS    TN   \n",
       "2891                 4411 OAKWOOD DRIVE             NaN  CHATTANOOGA    TN   \n",
       "2892          6570 STAGE ROAD SUITE 110             NaN     BARTLETT    TN   \n",
       "2893               212 NORTHCREST DRIVE             NaN  SPRINGFIELD    TN   \n",
       "\n",
       "      Zip Code County Name     PhoneNumber  CMS Region Ownership Type  \\\n",
       "2889     37203    Davidson  (615) 327-1085           4     Non-Profit   \n",
       "2890     38134      Shelby  (901) 516-1600           4     Non-Profit   \n",
       "2891     37416    Hamilton  (423) 892-4289           4     Non-Profit   \n",
       "2892     38134      Shelby  (901) 680-0378           4     For-Profit   \n",
       "2893     37172   Robertson  (615) 384-9425           4          Other   \n",
       "\n",
       "     Certification Date  \n",
       "2889         04/10/1984  \n",
       "2890         08/31/1984  \n",
       "2891         06/30/1986  \n",
       "2892         02/09/1987  \n",
       "2893         07/13/1987  "
      ]
     },
     "execution_count": 3,
     "metadata": {},
     "output_type": "execute_result"
    }
   ],
   "source": [
    "hospice_df = hospice_df.loc[hospice_df.State == 'TN']\n",
    "hospice_df.head()"
   ]
  },
  {
   "cell_type": "code",
   "execution_count": 4,
   "metadata": {},
   "outputs": [],
   "source": [
    "#Facility Name, Address Line 1, City, State, County Name, CMS Region, Ownership Type, and Cerfification Date\n",
    "hospice_df.columns = ['ccn','facility','address1',\"address2\",'city','state',\"zip\",'county','phone','cms_region',\"owership_type\",\"certification_date\"]"
   ]
  },
  {
   "cell_type": "code",
   "execution_count": 5,
   "metadata": {},
   "outputs": [
    {
     "data": {
      "text/html": [
       "<div>\n",
       "<style scoped>\n",
       "    .dataframe tbody tr th:only-of-type {\n",
       "        vertical-align: middle;\n",
       "    }\n",
       "\n",
       "    .dataframe tbody tr th {\n",
       "        vertical-align: top;\n",
       "    }\n",
       "\n",
       "    .dataframe thead th {\n",
       "        text-align: right;\n",
       "    }\n",
       "</style>\n",
       "<table border=\"1\" class=\"dataframe\">\n",
       "  <thead>\n",
       "    <tr style=\"text-align: right;\">\n",
       "      <th></th>\n",
       "      <th>facility</th>\n",
       "      <th>address1</th>\n",
       "      <th>city</th>\n",
       "      <th>state</th>\n",
       "      <th>county</th>\n",
       "      <th>cms_region</th>\n",
       "      <th>owership_type</th>\n",
       "      <th>certification_date</th>\n",
       "    </tr>\n",
       "  </thead>\n",
       "  <tbody>\n",
       "    <tr>\n",
       "      <th>2889</th>\n",
       "      <td>ALIVE HOSPICE INC</td>\n",
       "      <td>1718 PATTERSON ROAD</td>\n",
       "      <td>NASHVILLE</td>\n",
       "      <td>TN</td>\n",
       "      <td>Davidson</td>\n",
       "      <td>4</td>\n",
       "      <td>Non-Profit</td>\n",
       "      <td>04/10/1984</td>\n",
       "    </tr>\n",
       "    <tr>\n",
       "      <th>2890</th>\n",
       "      <td>METHODIST ALLIANCE HOSPICE</td>\n",
       "      <td>6400 SHELBY VIEW DRIVE, SUITE 101</td>\n",
       "      <td>MEMPHIS</td>\n",
       "      <td>TN</td>\n",
       "      <td>Shelby</td>\n",
       "      <td>4</td>\n",
       "      <td>Non-Profit</td>\n",
       "      <td>08/31/1984</td>\n",
       "    </tr>\n",
       "    <tr>\n",
       "      <th>2891</th>\n",
       "      <td>HOSPICE OF CHATTANOOGA INC</td>\n",
       "      <td>4411 OAKWOOD DRIVE</td>\n",
       "      <td>CHATTANOOGA</td>\n",
       "      <td>TN</td>\n",
       "      <td>Hamilton</td>\n",
       "      <td>4</td>\n",
       "      <td>Non-Profit</td>\n",
       "      <td>06/30/1986</td>\n",
       "    </tr>\n",
       "    <tr>\n",
       "      <th>2892</th>\n",
       "      <td>AMEDISYS HOSPICE CARE</td>\n",
       "      <td>6570 STAGE ROAD SUITE 110</td>\n",
       "      <td>BARTLETT</td>\n",
       "      <td>TN</td>\n",
       "      <td>Shelby</td>\n",
       "      <td>4</td>\n",
       "      <td>For-Profit</td>\n",
       "      <td>02/09/1987</td>\n",
       "    </tr>\n",
       "    <tr>\n",
       "      <th>2893</th>\n",
       "      <td>NORTHCREST HOME HEALTH AND HOSPICE</td>\n",
       "      <td>212 NORTHCREST DRIVE</td>\n",
       "      <td>SPRINGFIELD</td>\n",
       "      <td>TN</td>\n",
       "      <td>Robertson</td>\n",
       "      <td>4</td>\n",
       "      <td>Other</td>\n",
       "      <td>07/13/1987</td>\n",
       "    </tr>\n",
       "  </tbody>\n",
       "</table>\n",
       "</div>"
      ],
      "text/plain": [
       "                                facility                           address1  \\\n",
       "2889                   ALIVE HOSPICE INC                1718 PATTERSON ROAD   \n",
       "2890          METHODIST ALLIANCE HOSPICE  6400 SHELBY VIEW DRIVE, SUITE 101   \n",
       "2891          HOSPICE OF CHATTANOOGA INC                 4411 OAKWOOD DRIVE   \n",
       "2892               AMEDISYS HOSPICE CARE          6570 STAGE ROAD SUITE 110   \n",
       "2893  NORTHCREST HOME HEALTH AND HOSPICE               212 NORTHCREST DRIVE   \n",
       "\n",
       "             city state     county  cms_region owership_type  \\\n",
       "2889    NASHVILLE    TN   Davidson           4    Non-Profit   \n",
       "2890      MEMPHIS    TN     Shelby           4    Non-Profit   \n",
       "2891  CHATTANOOGA    TN   Hamilton           4    Non-Profit   \n",
       "2892     BARTLETT    TN     Shelby           4    For-Profit   \n",
       "2893  SPRINGFIELD    TN  Robertson           4         Other   \n",
       "\n",
       "     certification_date  \n",
       "2889         04/10/1984  \n",
       "2890         08/31/1984  \n",
       "2891         06/30/1986  \n",
       "2892         02/09/1987  \n",
       "2893         07/13/1987  "
      ]
     },
     "execution_count": 5,
     "metadata": {},
     "output_type": "execute_result"
    }
   ],
   "source": [
    "hospice_df.drop(columns = ['ccn','address2','zip','phone'],inplace = True)\n",
    "hospice_df.head()"
   ]
  },
  {
   "cell_type": "code",
   "execution_count": 6,
   "metadata": {},
   "outputs": [
    {
     "data": {
      "text/html": [
       "<div>\n",
       "<style scoped>\n",
       "    .dataframe tbody tr th:only-of-type {\n",
       "        vertical-align: middle;\n",
       "    }\n",
       "\n",
       "    .dataframe tbody tr th {\n",
       "        vertical-align: top;\n",
       "    }\n",
       "\n",
       "    .dataframe thead th {\n",
       "        text-align: right;\n",
       "    }\n",
       "</style>\n",
       "<table border=\"1\" class=\"dataframe\">\n",
       "  <thead>\n",
       "    <tr style=\"text-align: right;\">\n",
       "      <th></th>\n",
       "      <th>facility</th>\n",
       "      <th>address1</th>\n",
       "      <th>city</th>\n",
       "      <th>state</th>\n",
       "      <th>county</th>\n",
       "      <th>cms_region</th>\n",
       "      <th>owership_type</th>\n",
       "      <th>certification_date</th>\n",
       "    </tr>\n",
       "  </thead>\n",
       "  <tbody>\n",
       "    <tr>\n",
       "      <th>2940</th>\n",
       "      <td>ENCOMPASS HOSPICE OF TENNESSEE</td>\n",
       "      <td>828 ROYAL PARKWAY SUITE 113</td>\n",
       "      <td>NASHVILLE</td>\n",
       "      <td>TN</td>\n",
       "      <td>Davidson</td>\n",
       "      <td>4</td>\n",
       "      <td>For-Profit</td>\n",
       "      <td>06/16/2010</td>\n",
       "    </tr>\n",
       "    <tr>\n",
       "      <th>2941</th>\n",
       "      <td>QUALITY HOSPICE</td>\n",
       "      <td>341 WEST CENTRAL AVENUE</td>\n",
       "      <td>JAMESTOWN</td>\n",
       "      <td>TN</td>\n",
       "      <td>Fentress</td>\n",
       "      <td>4</td>\n",
       "      <td>For-Profit</td>\n",
       "      <td>01/04/2013</td>\n",
       "    </tr>\n",
       "    <tr>\n",
       "      <th>2942</th>\n",
       "      <td>HEARTH HOSPICE</td>\n",
       "      <td>1800A ROSSVILLE AVE SUITE 114</td>\n",
       "      <td>CHATTANOOGA</td>\n",
       "      <td>TN</td>\n",
       "      <td>Hamilton</td>\n",
       "      <td>4</td>\n",
       "      <td>For-Profit</td>\n",
       "      <td>03/22/2013</td>\n",
       "    </tr>\n",
       "    <tr>\n",
       "      <th>2943</th>\n",
       "      <td>AMEDISYS HOSPICE, AN ADVENTA COMPANY</td>\n",
       "      <td>400 ROYAL PARKWAY</td>\n",
       "      <td>NASHVILLE</td>\n",
       "      <td>TN</td>\n",
       "      <td>Davidson</td>\n",
       "      <td>4</td>\n",
       "      <td>Other</td>\n",
       "      <td>01/05/2016</td>\n",
       "    </tr>\n",
       "    <tr>\n",
       "      <th>2944</th>\n",
       "      <td>KINDRED HOSPICE</td>\n",
       "      <td>430 STUART RD NE, STE 2</td>\n",
       "      <td>CLEVELAND</td>\n",
       "      <td>TN</td>\n",
       "      <td>Bradley</td>\n",
       "      <td>4</td>\n",
       "      <td>For-Profit</td>\n",
       "      <td>01/04/2017</td>\n",
       "    </tr>\n",
       "  </tbody>\n",
       "</table>\n",
       "</div>"
      ],
      "text/plain": [
       "                                  facility                       address1  \\\n",
       "2940        ENCOMPASS HOSPICE OF TENNESSEE    828 ROYAL PARKWAY SUITE 113   \n",
       "2941                       QUALITY HOSPICE        341 WEST CENTRAL AVENUE   \n",
       "2942                        HEARTH HOSPICE  1800A ROSSVILLE AVE SUITE 114   \n",
       "2943  AMEDISYS HOSPICE, AN ADVENTA COMPANY              400 ROYAL PARKWAY   \n",
       "2944                       KINDRED HOSPICE        430 STUART RD NE, STE 2   \n",
       "\n",
       "             city state    county  cms_region owership_type certification_date  \n",
       "2940    NASHVILLE    TN  Davidson           4    For-Profit         06/16/2010  \n",
       "2941    JAMESTOWN    TN  Fentress           4    For-Profit         01/04/2013  \n",
       "2942  CHATTANOOGA    TN  Hamilton           4    For-Profit         03/22/2013  \n",
       "2943    NASHVILLE    TN  Davidson           4         Other         01/05/2016  \n",
       "2944    CLEVELAND    TN   Bradley           4    For-Profit         01/04/2017  "
      ]
     },
     "execution_count": 6,
     "metadata": {},
     "output_type": "execute_result"
    }
   ],
   "source": [
    "hospice_df.tail()"
   ]
  },
  {
   "cell_type": "code",
   "execution_count": 7,
   "metadata": {},
   "outputs": [
    {
     "data": {
      "text/plain": [
       "(56, 8)"
      ]
     },
     "execution_count": 7,
     "metadata": {},
     "output_type": "execute_result"
    }
   ],
   "source": [
    "hospice_df.shape"
   ]
  },
  {
   "cell_type": "code",
   "execution_count": 8,
   "metadata": {},
   "outputs": [
    {
     "data": {
      "text/html": [
       "<div>\n",
       "<style scoped>\n",
       "    .dataframe tbody tr th:only-of-type {\n",
       "        vertical-align: middle;\n",
       "    }\n",
       "\n",
       "    .dataframe tbody tr th {\n",
       "        vertical-align: top;\n",
       "    }\n",
       "\n",
       "    .dataframe thead th {\n",
       "        text-align: right;\n",
       "    }\n",
       "</style>\n",
       "<table border=\"1\" class=\"dataframe\">\n",
       "  <thead>\n",
       "    <tr style=\"text-align: right;\">\n",
       "      <th></th>\n",
       "      <th>County</th>\n",
       "      <th>FIPS</th>\n",
       "      <th>Met Healthy People Objective of 161.4?</th>\n",
       "      <th>Age-Adjusted Death Rate - deaths per 100,000</th>\n",
       "      <th>Lower 95% Confidence Interval</th>\n",
       "      <th>Upper 95% Confidence Interval</th>\n",
       "      <th>Average Annual Count</th>\n",
       "      <th>Recent Trend</th>\n",
       "      <th>Recent 5-Year Trend in Death Rates</th>\n",
       "      <th>Lower 95% Confidence Interval.1</th>\n",
       "      <th>Upper 95% Confidence Interval.1</th>\n",
       "    </tr>\n",
       "  </thead>\n",
       "  <tbody>\n",
       "    <tr>\n",
       "      <th>0</th>\n",
       "      <td>Tennessee</td>\n",
       "      <td>47999</td>\n",
       "      <td>No</td>\n",
       "      <td>185.4</td>\n",
       "      <td>184.0</td>\n",
       "      <td>186.8</td>\n",
       "      <td>13933</td>\n",
       "      <td>falling</td>\n",
       "      <td>-1.4</td>\n",
       "      <td>-1.5</td>\n",
       "      <td>-1.2</td>\n",
       "    </tr>\n",
       "    <tr>\n",
       "      <th>1</th>\n",
       "      <td>United States</td>\n",
       "      <td>0</td>\n",
       "      <td>No</td>\n",
       "      <td>163.5</td>\n",
       "      <td>163.3</td>\n",
       "      <td>163.7</td>\n",
       "      <td>586354</td>\n",
       "      <td>falling</td>\n",
       "      <td>-1.5</td>\n",
       "      <td>-1.6</td>\n",
       "      <td>-1.5</td>\n",
       "    </tr>\n",
       "    <tr>\n",
       "      <th>2</th>\n",
       "      <td>Trousdale County</td>\n",
       "      <td>47169</td>\n",
       "      <td>No</td>\n",
       "      <td>265.5</td>\n",
       "      <td>219.0</td>\n",
       "      <td>319.1</td>\n",
       "      <td>24</td>\n",
       "      <td>stable</td>\n",
       "      <td>0.0</td>\n",
       "      <td>-1.3</td>\n",
       "      <td>1.3</td>\n",
       "    </tr>\n",
       "    <tr>\n",
       "      <th>3</th>\n",
       "      <td>Scott County</td>\n",
       "      <td>47151</td>\n",
       "      <td>No</td>\n",
       "      <td>241.0</td>\n",
       "      <td>214.5</td>\n",
       "      <td>270.0</td>\n",
       "      <td>63</td>\n",
       "      <td>stable</td>\n",
       "      <td>-0.5</td>\n",
       "      <td>-1.1</td>\n",
       "      <td>0.1</td>\n",
       "    </tr>\n",
       "    <tr>\n",
       "      <th>4</th>\n",
       "      <td>Cheatham County</td>\n",
       "      <td>47021</td>\n",
       "      <td>No</td>\n",
       "      <td>239.6</td>\n",
       "      <td>217.8</td>\n",
       "      <td>263.0</td>\n",
       "      <td>97</td>\n",
       "      <td>stable</td>\n",
       "      <td>-0.6</td>\n",
       "      <td>-1.4</td>\n",
       "      <td>0.3</td>\n",
       "    </tr>\n",
       "  </tbody>\n",
       "</table>\n",
       "</div>"
      ],
      "text/plain": [
       "             County   FIPS Met Healthy People Objective of 161.4?  \\\n",
       "0         Tennessee  47999                                     No   \n",
       "1     United States      0                                     No   \n",
       "2  Trousdale County  47169                                     No   \n",
       "3      Scott County  47151                                     No   \n",
       "4   Cheatham County  47021                                     No   \n",
       "\n",
       "   Age-Adjusted Death Rate - deaths per 100,000  \\\n",
       "0                                         185.4   \n",
       "1                                         163.5   \n",
       "2                                         265.5   \n",
       "3                                         241.0   \n",
       "4                                         239.6   \n",
       "\n",
       "   Lower 95% Confidence Interval  Upper 95% Confidence Interval  \\\n",
       "0                          184.0                          186.8   \n",
       "1                          163.3                          163.7   \n",
       "2                          219.0                          319.1   \n",
       "3                          214.5                          270.0   \n",
       "4                          217.8                          263.0   \n",
       "\n",
       "   Average Annual Count Recent Trend  Recent 5-Year Trend in Death Rates  \\\n",
       "0                 13933      falling                                -1.4   \n",
       "1                586354      falling                                -1.5   \n",
       "2                    24       stable                                 0.0   \n",
       "3                    63       stable                                -0.5   \n",
       "4                    97       stable                                -0.6   \n",
       "\n",
       "   Lower 95% Confidence Interval.1  Upper 95% Confidence Interval.1  \n",
       "0                             -1.5                             -1.2  \n",
       "1                             -1.6                             -1.5  \n",
       "2                             -1.3                              1.3  \n",
       "3                             -1.1                              0.1  \n",
       "4                             -1.4                              0.3  "
      ]
     },
     "execution_count": 8,
     "metadata": {},
     "output_type": "execute_result"
    }
   ],
   "source": [
    "cancer_df = pd.read_csv('data/cancer_deaths.csv',skiprows =4,nrows = 97)\n",
    "cancer_df.head()"
   ]
  },
  {
   "cell_type": "code",
   "execution_count": 9,
   "metadata": {},
   "outputs": [
    {
     "data": {
      "text/html": [
       "<div>\n",
       "<style scoped>\n",
       "    .dataframe tbody tr th:only-of-type {\n",
       "        vertical-align: middle;\n",
       "    }\n",
       "\n",
       "    .dataframe tbody tr th {\n",
       "        vertical-align: top;\n",
       "    }\n",
       "\n",
       "    .dataframe thead th {\n",
       "        text-align: right;\n",
       "    }\n",
       "</style>\n",
       "<table border=\"1\" class=\"dataframe\">\n",
       "  <thead>\n",
       "    <tr style=\"text-align: right;\">\n",
       "      <th></th>\n",
       "      <th>County</th>\n",
       "      <th>FIPS</th>\n",
       "      <th>Met Healthy People Objective of 161.4?</th>\n",
       "      <th>Age-Adjusted Death Rate - deaths per 100,000</th>\n",
       "      <th>Lower 95% Confidence Interval</th>\n",
       "      <th>Upper 95% Confidence Interval</th>\n",
       "      <th>Average Annual Count</th>\n",
       "      <th>Recent Trend</th>\n",
       "      <th>Recent 5-Year Trend in Death Rates</th>\n",
       "      <th>Lower 95% Confidence Interval.1</th>\n",
       "      <th>Upper 95% Confidence Interval.1</th>\n",
       "    </tr>\n",
       "  </thead>\n",
       "  <tbody>\n",
       "    <tr>\n",
       "      <th>92</th>\n",
       "      <td>Van Buren County</td>\n",
       "      <td>47175</td>\n",
       "      <td>Yes</td>\n",
       "      <td>160.3</td>\n",
       "      <td>122.7</td>\n",
       "      <td>207.4</td>\n",
       "      <td>14</td>\n",
       "      <td>stable</td>\n",
       "      <td>-0.9</td>\n",
       "      <td>-2.4</td>\n",
       "      <td>0.6</td>\n",
       "    </tr>\n",
       "    <tr>\n",
       "      <th>93</th>\n",
       "      <td>Pickett County</td>\n",
       "      <td>47137</td>\n",
       "      <td>Yes</td>\n",
       "      <td>158.7</td>\n",
       "      <td>123.3</td>\n",
       "      <td>203.9</td>\n",
       "      <td>15</td>\n",
       "      <td>stable</td>\n",
       "      <td>-0.5</td>\n",
       "      <td>-1.8</td>\n",
       "      <td>0.9</td>\n",
       "    </tr>\n",
       "    <tr>\n",
       "      <th>94</th>\n",
       "      <td>Fayette County</td>\n",
       "      <td>47047</td>\n",
       "      <td>Yes</td>\n",
       "      <td>154.3</td>\n",
       "      <td>139.1</td>\n",
       "      <td>170.7</td>\n",
       "      <td>81</td>\n",
       "      <td>falling</td>\n",
       "      <td>-1.4</td>\n",
       "      <td>-2.2</td>\n",
       "      <td>-0.5</td>\n",
       "    </tr>\n",
       "    <tr>\n",
       "      <th>95</th>\n",
       "      <td>Williamson County</td>\n",
       "      <td>47187</td>\n",
       "      <td>Yes</td>\n",
       "      <td>127.2</td>\n",
       "      <td>119.8</td>\n",
       "      <td>134.9</td>\n",
       "      <td>239</td>\n",
       "      <td>falling</td>\n",
       "      <td>-3.8</td>\n",
       "      <td>-4.8</td>\n",
       "      <td>-2.9</td>\n",
       "    </tr>\n",
       "    <tr>\n",
       "      <th>96</th>\n",
       "      <td>Moore County</td>\n",
       "      <td>47127</td>\n",
       "      <td>Yes</td>\n",
       "      <td>123.2</td>\n",
       "      <td>93.9</td>\n",
       "      <td>160.5</td>\n",
       "      <td>12</td>\n",
       "      <td>falling</td>\n",
       "      <td>-2.1</td>\n",
       "      <td>-3.8</td>\n",
       "      <td>-0.4</td>\n",
       "    </tr>\n",
       "  </tbody>\n",
       "</table>\n",
       "</div>"
      ],
      "text/plain": [
       "               County   FIPS Met Healthy People Objective of 161.4?  \\\n",
       "92   Van Buren County  47175                                    Yes   \n",
       "93     Pickett County  47137                                    Yes   \n",
       "94     Fayette County  47047                                    Yes   \n",
       "95  Williamson County  47187                                    Yes   \n",
       "96       Moore County  47127                                    Yes   \n",
       "\n",
       "    Age-Adjusted Death Rate - deaths per 100,000  \\\n",
       "92                                         160.3   \n",
       "93                                         158.7   \n",
       "94                                         154.3   \n",
       "95                                         127.2   \n",
       "96                                         123.2   \n",
       "\n",
       "    Lower 95% Confidence Interval  Upper 95% Confidence Interval  \\\n",
       "92                          122.7                          207.4   \n",
       "93                          123.3                          203.9   \n",
       "94                          139.1                          170.7   \n",
       "95                          119.8                          134.9   \n",
       "96                           93.9                          160.5   \n",
       "\n",
       "    Average Annual Count Recent Trend  Recent 5-Year Trend in Death Rates  \\\n",
       "92                    14       stable                                -0.9   \n",
       "93                    15       stable                                -0.5   \n",
       "94                    81      falling                                -1.4   \n",
       "95                   239      falling                                -3.8   \n",
       "96                    12      falling                                -2.1   \n",
       "\n",
       "    Lower 95% Confidence Interval.1  Upper 95% Confidence Interval.1  \n",
       "92                             -2.4                              0.6  \n",
       "93                             -1.8                              0.9  \n",
       "94                             -2.2                             -0.5  \n",
       "95                             -4.8                             -2.9  \n",
       "96                             -3.8                             -0.4  "
      ]
     },
     "execution_count": 9,
     "metadata": {},
     "output_type": "execute_result"
    }
   ],
   "source": [
    "cancer_df.tail()"
   ]
  },
  {
   "cell_type": "code",
   "execution_count": 10,
   "metadata": {},
   "outputs": [
    {
     "data": {
      "text/plain": [
       "(97, 11)"
      ]
     },
     "execution_count": 10,
     "metadata": {},
     "output_type": "execute_result"
    }
   ],
   "source": [
    "cancer_df.shape"
   ]
  },
  {
   "cell_type": "code",
   "execution_count": 11,
   "metadata": {},
   "outputs": [],
   "source": [
    "cancer_df.columns = ['county','FIPS','Met_Health_People_Objective','Age_Adjusted_Death_Rate','Lower95CI','Upper95CI','AveAnnuaCount','RecentTrend','Recent_5y_Trend','Lower95CI.1','Upper95CI.1']"
   ]
  },
  {
   "cell_type": "code",
   "execution_count": null,
   "metadata": {
    "scrolled": false
   },
   "outputs": [],
   "source": [
    "cancer_df"
   ]
  },
  {
   "cell_type": "code",
   "execution_count": 13,
   "metadata": {},
   "outputs": [
    {
     "data": {
      "text/plain": [
       "(95, 993)"
      ]
     },
     "execution_count": 13,
     "metadata": {},
     "output_type": "execute_result"
    }
   ],
   "source": [
    "pop_df = pd.read_csv('data/PEP_2017_PEPAGESEX.csv',skiprows = 1)\n",
    "pop_df.shape"
   ]
  },
  {
   "cell_type": "code",
   "execution_count": 14,
   "metadata": {},
   "outputs": [],
   "source": [
    "april_data = [col for col in pop_df.columns if col.startswith('April')]\n",
    "pop_df = pop_df.drop(april_data, axis = 1)"
   ]
  },
  {
   "cell_type": "code",
   "execution_count": 15,
   "metadata": {},
   "outputs": [],
   "source": [
    "pop_df = pop_df.drop(columns = [\"Id\",\"Id2\"])"
   ]
  },
  {
   "cell_type": "code",
   "execution_count": 16,
   "metadata": {},
   "outputs": [
    {
     "data": {
      "text/plain": [
       "(95, 298)"
      ]
     },
     "execution_count": 16,
     "metadata": {},
     "output_type": "execute_result"
    }
   ],
   "source": [
    "droplist2011 = [col for col in pop_df.columns if '2011' in col]\n",
    "pop_df = pop_df.drop(droplist2011,axis =1)\n",
    "droplist2012 = [col for col in pop_df.columns if '2012' in col]\n",
    "pop_df = pop_df.drop(droplist2012,axis =1)\n",
    "droplist2013 = [col for col in pop_df.columns if '2013' in col]\n",
    "pop_df = pop_df.drop(droplist2013,axis =1)\n",
    "droplist2015 = [col for col in pop_df.columns if '2015' in col]\n",
    "pop_df = pop_df.drop(droplist2015,axis =1)\n",
    "droplist2016 = [col for col in pop_df.columns if '2016' in col]\n",
    "pop_df = pop_df.drop(droplist2016,axis =1)\n",
    "pop_df.shape"
   ]
  },
  {
   "cell_type": "code",
   "execution_count": 17,
   "metadata": {},
   "outputs": [],
   "source": [
    "droplistfemale = [col for col in pop_df.columns if 'Male' in col]\n",
    "droplistmale = [col for col in pop_df.columns if 'Female' in col]\n",
    "\n",
    "pop_df = pop_df.drop(droplistfemale,axis =1)\n",
    "pop_df = pop_df.drop(droplistmale,axis =1)\n"
   ]
  },
  {
   "cell_type": "code",
   "execution_count": 18,
   "metadata": {},
   "outputs": [
    {
     "data": {
      "text/plain": [
       "(95, 31)"
      ]
     },
     "execution_count": 18,
     "metadata": {},
     "output_type": "execute_result"
    }
   ],
   "source": [
    "final_list = [col for col in pop_df.columns if 'Under 5 years' in col or '5 to 9 years' in col or '10 to 14 years' in col or '15 to 19 years' in col or\n",
    "              \"20 to 24 years\" in col or '25 to 29 years' in col or '30 to 34 years'in col or '35 to 39 years'in col or \n",
    "              '40 to 44 years'in col or '45 to 49 years' in col or '15 to 44 years' in col or '16 years and over' in col or '18 years and over' in col or 'Under 18 years' in col or '18 years and over'in col or '18 to 64 years' in col or '65 years and over'in col or 'Total - 85 years and over' in col]\n",
    "pop_df = pop_df.drop(final_list, axis =1)\n",
    "pop_df.shape"
   ]
  },
  {
   "cell_type": "code",
   "execution_count": 19,
   "metadata": {},
   "outputs": [],
   "source": [
    "pop_df.columns =['county', 'pop2010all', 'pop2014all', 'pop2017all', 'pop2010_50to54','pop2014_50to54', 'pop2017_50to54', 'pop2010_55to59', 'pop2014_55to59', 'pop2017_55to59', 'pop2010_60to64', 'pop2014_60to64', 'pop2017_60to64',\n",
    "    'pop2010_65to69', 'pop2014_65to69', 'pop2017_65to69', 'pop2010_70to74', 'pop2014_70to74', 'pop2017_70to74', 'pop2010_75to79', 'pop2014_75to79', 'pop2017_75to79', 'pop2010_80to84', 'pop2014_80to84', 'pop2017_80to84',\n",
    "    'pop2010_85over', 'pop2014_85over', 'pop2017_85over', 'median_age_2010', 'median_age_2014', 'median_age_2017']"
   ]
  },
  {
   "cell_type": "code",
   "execution_count": null,
   "metadata": {
    "scrolled": false
   },
   "outputs": [],
   "source": [
    "pop_df"
   ]
  },
  {
   "cell_type": "code",
   "execution_count": 21,
   "metadata": {},
   "outputs": [],
   "source": [
    "cancer_df['county'] = [county.replace(' County', '') for county in cancer_df.county]"
   ]
  },
  {
   "cell_type": "code",
   "execution_count": 22,
   "metadata": {},
   "outputs": [],
   "source": [
    "\n",
    "pop_df['county'] = [county.replace(' County, Tennessee', '')for county in pop_df.county]                "
   ]
  },
  {
   "cell_type": "code",
   "execution_count": 23,
   "metadata": {},
   "outputs": [
    {
     "data": {
      "text/plain": [
       "(97, 41)"
      ]
     },
     "execution_count": 23,
     "metadata": {},
     "output_type": "execute_result"
    }
   ],
   "source": [
    "pop_and_cancer = pd.merge(pop_df,cancer_df,on = 'county', how = 'outer')\n",
    "pop_and_cancer.shape"
   ]
  },
  {
   "cell_type": "code",
   "execution_count": 24,
   "metadata": {},
   "outputs": [],
   "source": [
    "# To create a dictionary of counts. From pandas.Series to dict\n",
    "hospice_per_county = hospice_df['county'].value_counts().to_dict()"
   ]
  },
  {
   "cell_type": "code",
   "execution_count": 25,
   "metadata": {},
   "outputs": [],
   "source": [
    "# To add counties with zero hospice facilities to the dictionary\n",
    "for county in pop_and_cancer.county:\n",
    "    if county in hospice_per_county:\n",
    "        continue\n",
    "    else:\n",
    "        hospice_per_county[county] = 0"
   ]
  },
  {
   "cell_type": "code",
   "execution_count": 26,
   "metadata": {},
   "outputs": [],
   "source": [
    "# To populate a new column with the hospice counts\n",
    "pop_and_cancer['hospice_count'] = [hospice_per_county[county] for county in pop_and_cancer.county]"
   ]
  },
  {
   "cell_type": "code",
   "execution_count": 27,
   "metadata": {
    "scrolled": true
   },
   "outputs": [
    {
     "name": "stdout",
     "output_type": "stream",
     "text": [
      "<class 'pandas.core.frame.DataFrame'>\n",
      "Int64Index: 97 entries, 0 to 96\n",
      "Data columns (total 42 columns):\n",
      "county                         97 non-null object\n",
      "pop2010all                     95 non-null float64\n",
      "pop2014all                     95 non-null float64\n",
      "pop2017all                     95 non-null float64\n",
      "pop2010_50to54                 95 non-null float64\n",
      "pop2014_50to54                 95 non-null float64\n",
      "pop2017_50to54                 95 non-null float64\n",
      "pop2010_55to59                 95 non-null float64\n",
      "pop2014_55to59                 95 non-null float64\n",
      "pop2017_55to59                 95 non-null float64\n",
      "pop2010_60to64                 95 non-null float64\n",
      "pop2014_60to64                 95 non-null float64\n",
      "pop2017_60to64                 95 non-null float64\n",
      "pop2010_65to69                 95 non-null float64\n",
      "pop2014_65to69                 95 non-null float64\n",
      "pop2017_65to69                 95 non-null float64\n",
      "pop2010_70to74                 95 non-null float64\n",
      "pop2014_70to74                 95 non-null float64\n",
      "pop2017_70to74                 95 non-null float64\n",
      "pop2010_75to79                 95 non-null float64\n",
      "pop2014_75to79                 95 non-null float64\n",
      "pop2017_75to79                 95 non-null float64\n",
      "pop2010_80to84                 95 non-null float64\n",
      "pop2014_80to84                 95 non-null float64\n",
      "pop2017_80to84                 95 non-null float64\n",
      "pop2010_85over                 95 non-null float64\n",
      "pop2014_85over                 95 non-null float64\n",
      "pop2017_85over                 95 non-null float64\n",
      "median_age_2010                95 non-null float64\n",
      "median_age_2014                95 non-null float64\n",
      "median_age_2017                95 non-null float64\n",
      "FIPS                           97 non-null int64\n",
      "Met_Health_People_Objective    97 non-null object\n",
      "Age_Adjusted_Death_Rate        97 non-null float64\n",
      "Lower95CI                      97 non-null float64\n",
      "Upper95CI                      97 non-null float64\n",
      "AveAnnuaCount                  97 non-null int64\n",
      "RecentTrend                    97 non-null object\n",
      "Recent_5y_Trend                97 non-null float64\n",
      "Lower95CI.1                    97 non-null float64\n",
      "Upper95CI.1                    97 non-null float64\n",
      "hospice_count                  97 non-null int64\n",
      "dtypes: float64(36), int64(3), object(3)\n",
      "memory usage: 32.6+ KB\n"
     ]
    }
   ],
   "source": [
    "pop_and_cancer.info()"
   ]
  },
  {
   "cell_type": "code",
   "execution_count": 28,
   "metadata": {
    "scrolled": true
   },
   "outputs": [
    {
     "data": {
      "text/plain": [
       "county                         0\n",
       "pop2010all                     2\n",
       "pop2014all                     2\n",
       "pop2017all                     2\n",
       "pop2010_50to54                 2\n",
       "pop2014_50to54                 2\n",
       "pop2017_50to54                 2\n",
       "pop2010_55to59                 2\n",
       "pop2014_55to59                 2\n",
       "pop2017_55to59                 2\n",
       "pop2010_60to64                 2\n",
       "pop2014_60to64                 2\n",
       "pop2017_60to64                 2\n",
       "pop2010_65to69                 2\n",
       "pop2014_65to69                 2\n",
       "pop2017_65to69                 2\n",
       "pop2010_70to74                 2\n",
       "pop2014_70to74                 2\n",
       "pop2017_70to74                 2\n",
       "pop2010_75to79                 2\n",
       "pop2014_75to79                 2\n",
       "pop2017_75to79                 2\n",
       "pop2010_80to84                 2\n",
       "pop2014_80to84                 2\n",
       "pop2017_80to84                 2\n",
       "pop2010_85over                 2\n",
       "pop2014_85over                 2\n",
       "pop2017_85over                 2\n",
       "median_age_2010                2\n",
       "median_age_2014                2\n",
       "median_age_2017                2\n",
       "FIPS                           0\n",
       "Met_Health_People_Objective    0\n",
       "Age_Adjusted_Death_Rate        0\n",
       "Lower95CI                      0\n",
       "Upper95CI                      0\n",
       "AveAnnuaCount                  0\n",
       "RecentTrend                    0\n",
       "Recent_5y_Trend                0\n",
       "Lower95CI.1                    0\n",
       "Upper95CI.1                    0\n",
       "hospice_count                  0\n",
       "dtype: int64"
      ]
     },
     "execution_count": 28,
     "metadata": {},
     "output_type": "execute_result"
    }
   ],
   "source": [
    "pop_and_cancer.isnull().sum()"
   ]
  },
  {
   "cell_type": "code",
   "execution_count": 29,
   "metadata": {},
   "outputs": [
    {
     "data": {
      "text/html": [
       "<div>\n",
       "<style scoped>\n",
       "    .dataframe tbody tr th:only-of-type {\n",
       "        vertical-align: middle;\n",
       "    }\n",
       "\n",
       "    .dataframe tbody tr th {\n",
       "        vertical-align: top;\n",
       "    }\n",
       "\n",
       "    .dataframe thead th {\n",
       "        text-align: right;\n",
       "    }\n",
       "</style>\n",
       "<table border=\"1\" class=\"dataframe\">\n",
       "  <thead>\n",
       "    <tr style=\"text-align: right;\">\n",
       "      <th></th>\n",
       "      <th>county</th>\n",
       "      <th>pop2010all</th>\n",
       "      <th>pop2014all</th>\n",
       "      <th>pop2017all</th>\n",
       "      <th>pop2010_50to54</th>\n",
       "      <th>pop2014_50to54</th>\n",
       "      <th>pop2017_50to54</th>\n",
       "      <th>pop2010_55to59</th>\n",
       "      <th>pop2014_55to59</th>\n",
       "      <th>pop2017_55to59</th>\n",
       "      <th>...</th>\n",
       "      <th>Met_Health_People_Objective</th>\n",
       "      <th>Age_Adjusted_Death_Rate</th>\n",
       "      <th>Lower95CI</th>\n",
       "      <th>Upper95CI</th>\n",
       "      <th>AveAnnuaCount</th>\n",
       "      <th>RecentTrend</th>\n",
       "      <th>Recent_5y_Trend</th>\n",
       "      <th>Lower95CI.1</th>\n",
       "      <th>Upper95CI.1</th>\n",
       "      <th>hospice_count</th>\n",
       "    </tr>\n",
       "  </thead>\n",
       "  <tbody>\n",
       "    <tr>\n",
       "      <th>95</th>\n",
       "      <td>Tennessee</td>\n",
       "      <td>NaN</td>\n",
       "      <td>NaN</td>\n",
       "      <td>NaN</td>\n",
       "      <td>NaN</td>\n",
       "      <td>NaN</td>\n",
       "      <td>NaN</td>\n",
       "      <td>NaN</td>\n",
       "      <td>NaN</td>\n",
       "      <td>NaN</td>\n",
       "      <td>...</td>\n",
       "      <td>No</td>\n",
       "      <td>185.4</td>\n",
       "      <td>184.0</td>\n",
       "      <td>186.8</td>\n",
       "      <td>13933</td>\n",
       "      <td>falling</td>\n",
       "      <td>-1.4</td>\n",
       "      <td>-1.5</td>\n",
       "      <td>-1.2</td>\n",
       "      <td>0</td>\n",
       "    </tr>\n",
       "    <tr>\n",
       "      <th>96</th>\n",
       "      <td>United States</td>\n",
       "      <td>NaN</td>\n",
       "      <td>NaN</td>\n",
       "      <td>NaN</td>\n",
       "      <td>NaN</td>\n",
       "      <td>NaN</td>\n",
       "      <td>NaN</td>\n",
       "      <td>NaN</td>\n",
       "      <td>NaN</td>\n",
       "      <td>NaN</td>\n",
       "      <td>...</td>\n",
       "      <td>No</td>\n",
       "      <td>163.5</td>\n",
       "      <td>163.3</td>\n",
       "      <td>163.7</td>\n",
       "      <td>586354</td>\n",
       "      <td>falling</td>\n",
       "      <td>-1.5</td>\n",
       "      <td>-1.6</td>\n",
       "      <td>-1.5</td>\n",
       "      <td>0</td>\n",
       "    </tr>\n",
       "  </tbody>\n",
       "</table>\n",
       "<p>2 rows × 42 columns</p>\n",
       "</div>"
      ],
      "text/plain": [
       "           county  pop2010all  pop2014all  pop2017all  pop2010_50to54  \\\n",
       "95      Tennessee         NaN         NaN         NaN             NaN   \n",
       "96  United States         NaN         NaN         NaN             NaN   \n",
       "\n",
       "    pop2014_50to54  pop2017_50to54  pop2010_55to59  pop2014_55to59  \\\n",
       "95             NaN             NaN             NaN             NaN   \n",
       "96             NaN             NaN             NaN             NaN   \n",
       "\n",
       "    pop2017_55to59      ...        Met_Health_People_Objective  \\\n",
       "95             NaN      ...                                 No   \n",
       "96             NaN      ...                                 No   \n",
       "\n",
       "    Age_Adjusted_Death_Rate  Lower95CI  Upper95CI  AveAnnuaCount  RecentTrend  \\\n",
       "95                    185.4      184.0      186.8          13933      falling   \n",
       "96                    163.5      163.3      163.7         586354      falling   \n",
       "\n",
       "    Recent_5y_Trend  Lower95CI.1  Upper95CI.1  hospice_count  \n",
       "95             -1.4         -1.5         -1.2              0  \n",
       "96             -1.5         -1.6         -1.5              0  \n",
       "\n",
       "[2 rows x 42 columns]"
      ]
     },
     "execution_count": 29,
     "metadata": {},
     "output_type": "execute_result"
    }
   ],
   "source": [
    "pop_and_cancer.loc[pop_and_cancer.pop2010all.isnull()]"
   ]
  },
  {
   "cell_type": "code",
   "execution_count": 30,
   "metadata": {},
   "outputs": [],
   "source": [
    "pop_and_cancer.drop(pop_and_cancer.index[95:97],inplace = True)"
   ]
  },
  {
   "cell_type": "code",
   "execution_count": 31,
   "metadata": {},
   "outputs": [
    {
     "data": {
      "text/html": [
       "<div>\n",
       "<style scoped>\n",
       "    .dataframe tbody tr th:only-of-type {\n",
       "        vertical-align: middle;\n",
       "    }\n",
       "\n",
       "    .dataframe tbody tr th {\n",
       "        vertical-align: top;\n",
       "    }\n",
       "\n",
       "    .dataframe thead th {\n",
       "        text-align: right;\n",
       "    }\n",
       "</style>\n",
       "<table border=\"1\" class=\"dataframe\">\n",
       "  <thead>\n",
       "    <tr style=\"text-align: right;\">\n",
       "      <th></th>\n",
       "      <th>pop2010all</th>\n",
       "      <th>pop2014all</th>\n",
       "      <th>pop2017all</th>\n",
       "      <th>pop2010_50to54</th>\n",
       "      <th>pop2014_50to54</th>\n",
       "      <th>pop2017_50to54</th>\n",
       "      <th>pop2010_55to59</th>\n",
       "      <th>pop2014_55to59</th>\n",
       "      <th>pop2017_55to59</th>\n",
       "      <th>pop2010_60to64</th>\n",
       "      <th>...</th>\n",
       "      <th>median_age_2017</th>\n",
       "      <th>FIPS</th>\n",
       "      <th>Age_Adjusted_Death_Rate</th>\n",
       "      <th>Lower95CI</th>\n",
       "      <th>Upper95CI</th>\n",
       "      <th>AveAnnuaCount</th>\n",
       "      <th>Recent_5y_Trend</th>\n",
       "      <th>Lower95CI.1</th>\n",
       "      <th>Upper95CI.1</th>\n",
       "      <th>hospice_count</th>\n",
       "    </tr>\n",
       "  </thead>\n",
       "  <tbody>\n",
       "    <tr>\n",
       "      <th>count</th>\n",
       "      <td>95.000000</td>\n",
       "      <td>95.000000</td>\n",
       "      <td>95.000000</td>\n",
       "      <td>95.000000</td>\n",
       "      <td>95.000000</td>\n",
       "      <td>95.000000</td>\n",
       "      <td>95.000000</td>\n",
       "      <td>95.000000</td>\n",
       "      <td>95.000000</td>\n",
       "      <td>95.000000</td>\n",
       "      <td>...</td>\n",
       "      <td>95.000000</td>\n",
       "      <td>95.000000</td>\n",
       "      <td>95.000000</td>\n",
       "      <td>95.000000</td>\n",
       "      <td>95.000000</td>\n",
       "      <td>95.000000</td>\n",
       "      <td>95.000000</td>\n",
       "      <td>95.000000</td>\n",
       "      <td>95.000000</td>\n",
       "      <td>95.000000</td>\n",
       "    </tr>\n",
       "    <tr>\n",
       "      <th>mean</th>\n",
       "      <td>66904.021053</td>\n",
       "      <td>68842.178947</td>\n",
       "      <td>70694.568421</td>\n",
       "      <td>4841.315789</td>\n",
       "      <td>4893.094737</td>\n",
       "      <td>4725.642105</td>\n",
       "      <td>4394.715789</td>\n",
       "      <td>4695.926316</td>\n",
       "      <td>4786.389474</td>\n",
       "      <td>3936.094737</td>\n",
       "      <td>...</td>\n",
       "      <td>42.227368</td>\n",
       "      <td>47095.000000</td>\n",
       "      <td>195.872632</td>\n",
       "      <td>175.560000</td>\n",
       "      <td>218.483158</td>\n",
       "      <td>146.694737</td>\n",
       "      <td>-0.696842</td>\n",
       "      <td>-1.534737</td>\n",
       "      <td>0.162105</td>\n",
       "      <td>0.589474</td>\n",
       "    </tr>\n",
       "    <tr>\n",
       "      <th>std</th>\n",
       "      <td>125893.866158</td>\n",
       "      <td>130411.224371</td>\n",
       "      <td>133087.373795</td>\n",
       "      <td>8882.143047</td>\n",
       "      <td>8879.997900</td>\n",
       "      <td>8364.067423</td>\n",
       "      <td>7931.421146</td>\n",
       "      <td>8499.962005</td>\n",
       "      <td>8472.943999</td>\n",
       "      <td>6478.377453</td>\n",
       "      <td>...</td>\n",
       "      <td>3.565450</td>\n",
       "      <td>55.136195</td>\n",
       "      <td>23.583566</td>\n",
       "      <td>20.600555</td>\n",
       "      <td>30.131311</td>\n",
       "      <td>236.906035</td>\n",
       "      <td>0.996852</td>\n",
       "      <td>1.600450</td>\n",
       "      <td>0.786884</td>\n",
       "      <td>1.267387</td>\n",
       "    </tr>\n",
       "    <tr>\n",
       "      <th>min</th>\n",
       "      <td>5073.000000</td>\n",
       "      <td>5068.000000</td>\n",
       "      <td>5073.000000</td>\n",
       "      <td>364.000000</td>\n",
       "      <td>387.000000</td>\n",
       "      <td>376.000000</td>\n",
       "      <td>385.000000</td>\n",
       "      <td>364.000000</td>\n",
       "      <td>394.000000</td>\n",
       "      <td>433.000000</td>\n",
       "      <td>...</td>\n",
       "      <td>30.800000</td>\n",
       "      <td>47001.000000</td>\n",
       "      <td>123.200000</td>\n",
       "      <td>93.900000</td>\n",
       "      <td>134.900000</td>\n",
       "      <td>12.000000</td>\n",
       "      <td>-6.700000</td>\n",
       "      <td>-13.800000</td>\n",
       "      <td>-2.900000</td>\n",
       "      <td>0.000000</td>\n",
       "    </tr>\n",
       "    <tr>\n",
       "      <th>25%</th>\n",
       "      <td>18102.000000</td>\n",
       "      <td>17871.500000</td>\n",
       "      <td>17632.000000</td>\n",
       "      <td>1318.500000</td>\n",
       "      <td>1289.500000</td>\n",
       "      <td>1267.000000</td>\n",
       "      <td>1273.000000</td>\n",
       "      <td>1294.000000</td>\n",
       "      <td>1270.500000</td>\n",
       "      <td>1233.500000</td>\n",
       "      <td>...</td>\n",
       "      <td>39.700000</td>\n",
       "      <td>47048.000000</td>\n",
       "      <td>181.050000</td>\n",
       "      <td>166.450000</td>\n",
       "      <td>199.250000</td>\n",
       "      <td>47.500000</td>\n",
       "      <td>-0.950000</td>\n",
       "      <td>-1.550000</td>\n",
       "      <td>-0.300000</td>\n",
       "      <td>0.000000</td>\n",
       "    </tr>\n",
       "    <tr>\n",
       "      <th>50%</th>\n",
       "      <td>31821.000000</td>\n",
       "      <td>31250.000000</td>\n",
       "      <td>31609.000000</td>\n",
       "      <td>2282.000000</td>\n",
       "      <td>2210.000000</td>\n",
       "      <td>2178.000000</td>\n",
       "      <td>2183.000000</td>\n",
       "      <td>2209.000000</td>\n",
       "      <td>2218.000000</td>\n",
       "      <td>2080.000000</td>\n",
       "      <td>...</td>\n",
       "      <td>42.800000</td>\n",
       "      <td>47095.000000</td>\n",
       "      <td>194.900000</td>\n",
       "      <td>176.000000</td>\n",
       "      <td>215.500000</td>\n",
       "      <td>82.000000</td>\n",
       "      <td>-0.600000</td>\n",
       "      <td>-1.200000</td>\n",
       "      <td>0.200000</td>\n",
       "      <td>0.000000</td>\n",
       "    </tr>\n",
       "    <tr>\n",
       "      <th>75%</th>\n",
       "      <td>56534.500000</td>\n",
       "      <td>56319.000000</td>\n",
       "      <td>56473.500000</td>\n",
       "      <td>4279.500000</td>\n",
       "      <td>4141.500000</td>\n",
       "      <td>4093.000000</td>\n",
       "      <td>3836.500000</td>\n",
       "      <td>4105.500000</td>\n",
       "      <td>4258.500000</td>\n",
       "      <td>4012.500000</td>\n",
       "      <td>...</td>\n",
       "      <td>44.700000</td>\n",
       "      <td>47142.000000</td>\n",
       "      <td>211.300000</td>\n",
       "      <td>186.950000</td>\n",
       "      <td>239.400000</td>\n",
       "      <td>144.500000</td>\n",
       "      <td>-0.200000</td>\n",
       "      <td>-1.000000</td>\n",
       "      <td>0.550000</td>\n",
       "      <td>1.000000</td>\n",
       "    </tr>\n",
       "    <tr>\n",
       "      <th>max</th>\n",
       "      <td>928552.000000</td>\n",
       "      <td>938434.000000</td>\n",
       "      <td>936961.000000</td>\n",
       "      <td>66350.000000</td>\n",
       "      <td>64536.000000</td>\n",
       "      <td>59532.000000</td>\n",
       "      <td>59228.000000</td>\n",
       "      <td>62411.000000</td>\n",
       "      <td>60997.000000</td>\n",
       "      <td>47519.000000</td>\n",
       "      <td>...</td>\n",
       "      <td>51.400000</td>\n",
       "      <td>47189.000000</td>\n",
       "      <td>265.500000</td>\n",
       "      <td>219.000000</td>\n",
       "      <td>319.100000</td>\n",
       "      <td>1767.000000</td>\n",
       "      <td>1.300000</td>\n",
       "      <td>0.300000</td>\n",
       "      <td>2.300000</td>\n",
       "      <td>8.000000</td>\n",
       "    </tr>\n",
       "  </tbody>\n",
       "</table>\n",
       "<p>8 rows × 39 columns</p>\n",
       "</div>"
      ],
      "text/plain": [
       "          pop2010all     pop2014all     pop2017all  pop2010_50to54  \\\n",
       "count      95.000000      95.000000      95.000000       95.000000   \n",
       "mean    66904.021053   68842.178947   70694.568421     4841.315789   \n",
       "std    125893.866158  130411.224371  133087.373795     8882.143047   \n",
       "min      5073.000000    5068.000000    5073.000000      364.000000   \n",
       "25%     18102.000000   17871.500000   17632.000000     1318.500000   \n",
       "50%     31821.000000   31250.000000   31609.000000     2282.000000   \n",
       "75%     56534.500000   56319.000000   56473.500000     4279.500000   \n",
       "max    928552.000000  938434.000000  936961.000000    66350.000000   \n",
       "\n",
       "       pop2014_50to54  pop2017_50to54  pop2010_55to59  pop2014_55to59  \\\n",
       "count       95.000000       95.000000       95.000000       95.000000   \n",
       "mean      4893.094737     4725.642105     4394.715789     4695.926316   \n",
       "std       8879.997900     8364.067423     7931.421146     8499.962005   \n",
       "min        387.000000      376.000000      385.000000      364.000000   \n",
       "25%       1289.500000     1267.000000     1273.000000     1294.000000   \n",
       "50%       2210.000000     2178.000000     2183.000000     2209.000000   \n",
       "75%       4141.500000     4093.000000     3836.500000     4105.500000   \n",
       "max      64536.000000    59532.000000    59228.000000    62411.000000   \n",
       "\n",
       "       pop2017_55to59  pop2010_60to64      ...        median_age_2017  \\\n",
       "count       95.000000       95.000000      ...              95.000000   \n",
       "mean      4786.389474     3936.094737      ...              42.227368   \n",
       "std       8472.943999     6478.377453      ...               3.565450   \n",
       "min        394.000000      433.000000      ...              30.800000   \n",
       "25%       1270.500000     1233.500000      ...              39.700000   \n",
       "50%       2218.000000     2080.000000      ...              42.800000   \n",
       "75%       4258.500000     4012.500000      ...              44.700000   \n",
       "max      60997.000000    47519.000000      ...              51.400000   \n",
       "\n",
       "               FIPS  Age_Adjusted_Death_Rate   Lower95CI   Upper95CI  \\\n",
       "count     95.000000                95.000000   95.000000   95.000000   \n",
       "mean   47095.000000               195.872632  175.560000  218.483158   \n",
       "std       55.136195                23.583566   20.600555   30.131311   \n",
       "min    47001.000000               123.200000   93.900000  134.900000   \n",
       "25%    47048.000000               181.050000  166.450000  199.250000   \n",
       "50%    47095.000000               194.900000  176.000000  215.500000   \n",
       "75%    47142.000000               211.300000  186.950000  239.400000   \n",
       "max    47189.000000               265.500000  219.000000  319.100000   \n",
       "\n",
       "       AveAnnuaCount  Recent_5y_Trend  Lower95CI.1  Upper95CI.1  hospice_count  \n",
       "count      95.000000        95.000000    95.000000    95.000000      95.000000  \n",
       "mean      146.694737        -0.696842    -1.534737     0.162105       0.589474  \n",
       "std       236.906035         0.996852     1.600450     0.786884       1.267387  \n",
       "min        12.000000        -6.700000   -13.800000    -2.900000       0.000000  \n",
       "25%        47.500000        -0.950000    -1.550000    -0.300000       0.000000  \n",
       "50%        82.000000        -0.600000    -1.200000     0.200000       0.000000  \n",
       "75%       144.500000        -0.200000    -1.000000     0.550000       1.000000  \n",
       "max      1767.000000         1.300000     0.300000     2.300000       8.000000  \n",
       "\n",
       "[8 rows x 39 columns]"
      ]
     },
     "execution_count": 31,
     "metadata": {},
     "output_type": "execute_result"
    }
   ],
   "source": [
    "pop_and_cancer.describe()"
   ]
  },
  {
   "cell_type": "code",
   "execution_count": 33,
   "metadata": {},
   "outputs": [
    {
     "data": {
      "text/plain": [
       "[Text(0,0.5,'Recent_5y_Trend'),\n",
       " Text(0.5,0,'Bin'),\n",
       " Text(0.5,1,'Deaths from Cancer')]"
      ]
     },
     "execution_count": 33,
     "metadata": {},
     "output_type": "execute_result"
    }
   ],
   "source": [
    "#What does the distribution of the `recent_5year_trend` of deaths from cancer look like for TN counties?\n",
    "import seaborn as sns\n",
    "import matplotlib.pyplot as plt\n",
    "\n",
    "fig = sns.distplot(pop_and_cancer[\"Recent_5y_Trend\"])\n",
    "fig.set(xlabel = 'Bin', ylabel = 'Recent_5y_Trend', title = 'Deaths from Cancer')"
   ]
  },
  {
   "cell_type": "code",
   "execution_count": 34,
   "metadata": {},
   "outputs": [
    {
     "data": {
      "text/plain": [
       "Text(0.5,1,'Deaths from Cancer')"
      ]
     },
     "execution_count": 34,
     "metadata": {},
     "output_type": "execute_result"
    },
    {
     "data": {
      "image/png": "[encoded data removed]",
      "text/plain": [
       "<Figure size 432x288 with 1 Axes>"
      ]
     },
     "metadata": {},
     "output_type": "display_data"
    }
   ],
   "source": [
    "plt.hist(pop_and_cancer[\"Recent_5y_Trend\"])\n",
    "plt.ylabel('Recent_5y_Trend')\n",
    "plt.title('Deaths from Cancer')"
   ]
  },
  {
   "cell_type": "code",
   "execution_count": 35,
   "metadata": {
    "scrolled": false
   },
   "outputs": [
    {
     "data": {
      "text/plain": [
       "<matplotlib.collections.PathCollection at 0x1a1c6ec588>"
      ]
     },
     "execution_count": 35,
     "metadata": {},
     "output_type": "execute_result"
    },
    {
     "data": {
      "image/png": "[encoded data removed]",
      "text/plain": [
       "<Figure size 1080x576 with 1 Axes>"
      ]
     },
     "metadata": {},
     "output_type": "display_data"
    }
   ],
   "source": [
    "#What does the distribution of counties **meeting** and **not meeting** the 2020 Healthy People Objective target of 161.4 cancer deaths per 100,000 people look like?\n",
    "plt.figure(figsize=(15,8))\n",
    "plt.xticks(rotation = 90)\n",
    "plt.scatter(pop_and_cancer['county'], pop_and_cancer['Met_Health_People_Objective'])\n"
   ]
  },
  {
   "cell_type": "code",
   "execution_count": 36,
   "metadata": {},
   "outputs": [
    {
     "data": {
      "image/png": "[encoded data removed]",
      "text/plain": [
       "<Figure size 1080x576 with 1 Axes>"
      ]
     },
     "metadata": {},
     "output_type": "display_data"
    }
   ],
   "source": [
    "plt.figure(figsize = (15,8))\n",
    "plt.bar(pop_and_cancer['county'], pop_and_cancer['Met_Health_People_Objective'])\n",
    "# plt.figure(figsize = (15,8))\n",
    "plt.xticks(rotation = 90)\n",
    "plt.show()"
   ]
  },
  {
   "cell_type": "code",
   "execution_count": 37,
   "metadata": {},
   "outputs": [
    {
     "data": {
      "text/plain": [
       "<seaborn.axisgrid.FacetGrid at 0x1a1ca37080>"
      ]
     },
     "execution_count": 37,
     "metadata": {},
     "output_type": "execute_result"
    },
    {
     "data": {
      "image/png": "[encoded data removed]",
      "text/plain": [
       "<Figure size 360x360 with 1 Axes>"
      ]
     },
     "metadata": {},
     "output_type": "display_data"
    }
   ],
   "source": [
    "sns.catplot(x = 'county',y = 'hospice_count', data = pop_and_cancer)"
   ]
  },
  {
   "cell_type": "code",
   "execution_count": 38,
   "metadata": {},
   "outputs": [
    {
     "data": {
      "image/png": "[encoded data removed]",
      "text/plain": [
       "<Figure size 1008x288 with 1 Axes>"
      ]
     },
     "metadata": {},
     "output_type": "display_data"
    }
   ],
   "source": [
    "plt.figure(figsize = (14,4))\n",
    "plt.xticks(rotation = 90)\n",
    "plt.scatter(pop_and_cancer['county'], pop_and_cancer['hospice_count'])\n",
    "plt.show()"
   ]
  },
  {
   "cell_type": "code",
   "execution_count": 39,
   "metadata": {},
   "outputs": [
    {
     "data": {
      "text/html": [
       "<div>\n",
       "<style scoped>\n",
       "    .dataframe tbody tr th:only-of-type {\n",
       "        vertical-align: middle;\n",
       "    }\n",
       "\n",
       "    .dataframe tbody tr th {\n",
       "        vertical-align: top;\n",
       "    }\n",
       "\n",
       "    .dataframe thead th {\n",
       "        text-align: right;\n",
       "    }\n",
       "</style>\n",
       "<table border=\"1\" class=\"dataframe\">\n",
       "  <thead>\n",
       "    <tr style=\"text-align: right;\">\n",
       "      <th></th>\n",
       "      <th>county</th>\n",
       "      <th>pop2010all</th>\n",
       "      <th>pop2014all</th>\n",
       "      <th>pop2017all</th>\n",
       "      <th>pop2010_50to54</th>\n",
       "      <th>pop2014_50to54</th>\n",
       "      <th>pop2017_50to54</th>\n",
       "      <th>pop2010_55to59</th>\n",
       "      <th>pop2014_55to59</th>\n",
       "      <th>pop2017_55to59</th>\n",
       "      <th>...</th>\n",
       "      <th>Met_Health_People_Objective</th>\n",
       "      <th>Age_Adjusted_Death_Rate</th>\n",
       "      <th>Lower95CI</th>\n",
       "      <th>Upper95CI</th>\n",
       "      <th>AveAnnuaCount</th>\n",
       "      <th>RecentTrend</th>\n",
       "      <th>Recent_5y_Trend</th>\n",
       "      <th>Lower95CI.1</th>\n",
       "      <th>Upper95CI.1</th>\n",
       "      <th>hospice_count</th>\n",
       "    </tr>\n",
       "  </thead>\n",
       "  <tbody>\n",
       "    <tr>\n",
       "      <th>18</th>\n",
       "      <td>Davidson</td>\n",
       "      <td>627973.0</td>\n",
       "      <td>670314.0</td>\n",
       "      <td>691243.0</td>\n",
       "      <td>42340.0</td>\n",
       "      <td>43565.0</td>\n",
       "      <td>40889.0</td>\n",
       "      <td>37772.0</td>\n",
       "      <td>41623.0</td>\n",
       "      <td>41751.0</td>\n",
       "      <td>...</td>\n",
       "      <td>No</td>\n",
       "      <td>184.7</td>\n",
       "      <td>179.8</td>\n",
       "      <td>189.7</td>\n",
       "      <td>1137</td>\n",
       "      <td>falling</td>\n",
       "      <td>-1.5</td>\n",
       "      <td>-1.7</td>\n",
       "      <td>-1.2</td>\n",
       "      <td>8</td>\n",
       "    </tr>\n",
       "    <tr>\n",
       "      <th>32</th>\n",
       "      <td>Hamilton</td>\n",
       "      <td>337262.0</td>\n",
       "      <td>350602.0</td>\n",
       "      <td>361613.0</td>\n",
       "      <td>25237.0</td>\n",
       "      <td>24725.0</td>\n",
       "      <td>23736.0</td>\n",
       "      <td>23644.0</td>\n",
       "      <td>24948.0</td>\n",
       "      <td>24791.0</td>\n",
       "      <td>...</td>\n",
       "      <td>No</td>\n",
       "      <td>172.6</td>\n",
       "      <td>167.0</td>\n",
       "      <td>178.3</td>\n",
       "      <td>743</td>\n",
       "      <td>stable</td>\n",
       "      <td>0.1</td>\n",
       "      <td>-1.5</td>\n",
       "      <td>1.8</td>\n",
       "      <td>5</td>\n",
       "    </tr>\n",
       "    <tr>\n",
       "      <th>46</th>\n",
       "      <td>Knox</td>\n",
       "      <td>432972.0</td>\n",
       "      <td>447939.0</td>\n",
       "      <td>461860.0</td>\n",
       "      <td>30819.0</td>\n",
       "      <td>31248.0</td>\n",
       "      <td>29955.0</td>\n",
       "      <td>28163.0</td>\n",
       "      <td>29577.0</td>\n",
       "      <td>29921.0</td>\n",
       "      <td>...</td>\n",
       "      <td>No</td>\n",
       "      <td>177.4</td>\n",
       "      <td>172.1</td>\n",
       "      <td>182.8</td>\n",
       "      <td>890</td>\n",
       "      <td>falling</td>\n",
       "      <td>-1.0</td>\n",
       "      <td>-1.2</td>\n",
       "      <td>-0.8</td>\n",
       "      <td>5</td>\n",
       "    </tr>\n",
       "    <tr>\n",
       "      <th>78</th>\n",
       "      <td>Shelby</td>\n",
       "      <td>928552.0</td>\n",
       "      <td>938434.0</td>\n",
       "      <td>936961.0</td>\n",
       "      <td>66350.0</td>\n",
       "      <td>64536.0</td>\n",
       "      <td>59532.0</td>\n",
       "      <td>59228.0</td>\n",
       "      <td>62411.0</td>\n",
       "      <td>60997.0</td>\n",
       "      <td>...</td>\n",
       "      <td>No</td>\n",
       "      <td>195.0</td>\n",
       "      <td>190.8</td>\n",
       "      <td>199.2</td>\n",
       "      <td>1767</td>\n",
       "      <td>falling</td>\n",
       "      <td>-1.1</td>\n",
       "      <td>-1.2</td>\n",
       "      <td>-1.0</td>\n",
       "      <td>5</td>\n",
       "    </tr>\n",
       "  </tbody>\n",
       "</table>\n",
       "<p>4 rows × 42 columns</p>\n",
       "</div>"
      ],
      "text/plain": [
       "      county  pop2010all  pop2014all  pop2017all  pop2010_50to54  \\\n",
       "18  Davidson    627973.0    670314.0    691243.0         42340.0   \n",
       "32  Hamilton    337262.0    350602.0    361613.0         25237.0   \n",
       "46      Knox    432972.0    447939.0    461860.0         30819.0   \n",
       "78    Shelby    928552.0    938434.0    936961.0         66350.0   \n",
       "\n",
       "    pop2014_50to54  pop2017_50to54  pop2010_55to59  pop2014_55to59  \\\n",
       "18         43565.0         40889.0         37772.0         41623.0   \n",
       "32         24725.0         23736.0         23644.0         24948.0   \n",
       "46         31248.0         29955.0         28163.0         29577.0   \n",
       "78         64536.0         59532.0         59228.0         62411.0   \n",
       "\n",
       "    pop2017_55to59      ...        Met_Health_People_Objective  \\\n",
       "18         41751.0      ...                                 No   \n",
       "32         24791.0      ...                                 No   \n",
       "46         29921.0      ...                                 No   \n",
       "78         60997.0      ...                                 No   \n",
       "\n",
       "    Age_Adjusted_Death_Rate  Lower95CI  Upper95CI  AveAnnuaCount  RecentTrend  \\\n",
       "18                    184.7      179.8      189.7           1137      falling   \n",
       "32                    172.6      167.0      178.3            743       stable   \n",
       "46                    177.4      172.1      182.8            890      falling   \n",
       "78                    195.0      190.8      199.2           1767      falling   \n",
       "\n",
       "    Recent_5y_Trend  Lower95CI.1  Upper95CI.1  hospice_count  \n",
       "18             -1.5         -1.7         -1.2              8  \n",
       "32              0.1         -1.5          1.8              5  \n",
       "46             -1.0         -1.2         -0.8              5  \n",
       "78             -1.1         -1.2         -1.0              5  \n",
       "\n",
       "[4 rows x 42 columns]"
      ]
     },
     "execution_count": 39,
     "metadata": {},
     "output_type": "execute_result"
    }
   ],
   "source": [
    "#Find the 4 counties that have more than 2 hospice facilities\n",
    "pop_and_cancer.loc[pop_and_cancer.hospice_count > 2]"
   ]
  },
  {
   "cell_type": "code",
   "execution_count": 40,
   "metadata": {},
   "outputs": [
    {
     "data": {
      "text/plain": [
       "<matplotlib.collections.PathCollection at 0x1a1d142208>"
      ]
     },
     "execution_count": 40,
     "metadata": {},
     "output_type": "execute_result"
    },
    {
     "data": {
      "image/png": "[encoded data removed]",
      "text/plain": [
       "<Figure size 1008x288 with 1 Axes>"
      ]
     },
     "metadata": {},
     "output_type": "display_data"
    }
   ],
   "source": [
    "plt.figure(figsize = (14,4))\n",
    "plt.xticks(rotation = 90)\n",
    "plt.scatter(pop_and_cancer['county'], pop_and_cancer['Age_Adjusted_Death_Rate'])"
   ]
  },
  {
   "cell_type": "code",
   "execution_count": 41,
   "metadata": {
    "scrolled": true
   },
   "outputs": [
    {
     "data": {
      "text/html": [
       "<div>\n",
       "<style scoped>\n",
       "    .dataframe tbody tr th:only-of-type {\n",
       "        vertical-align: middle;\n",
       "    }\n",
       "\n",
       "    .dataframe tbody tr th {\n",
       "        vertical-align: top;\n",
       "    }\n",
       "\n",
       "    .dataframe thead th {\n",
       "        text-align: right;\n",
       "    }\n",
       "</style>\n",
       "<table border=\"1\" class=\"dataframe\">\n",
       "  <thead>\n",
       "    <tr style=\"text-align: right;\">\n",
       "      <th></th>\n",
       "      <th>county</th>\n",
       "      <th>Age_Adjusted_Death_Rate</th>\n",
       "    </tr>\n",
       "  </thead>\n",
       "  <tbody>\n",
       "    <tr>\n",
       "      <th>33</th>\n",
       "      <td>Hancock</td>\n",
       "      <td>236.2</td>\n",
       "    </tr>\n",
       "    <tr>\n",
       "      <th>12</th>\n",
       "      <td>Claiborne</td>\n",
       "      <td>237.3</td>\n",
       "    </tr>\n",
       "    <tr>\n",
       "      <th>10</th>\n",
       "      <td>Cheatham</td>\n",
       "      <td>239.6</td>\n",
       "    </tr>\n",
       "    <tr>\n",
       "      <th>75</th>\n",
       "      <td>Scott</td>\n",
       "      <td>241.0</td>\n",
       "    </tr>\n",
       "    <tr>\n",
       "      <th>84</th>\n",
       "      <td>Trousdale</td>\n",
       "      <td>265.5</td>\n",
       "    </tr>\n",
       "  </tbody>\n",
       "</table>\n",
       "</div>"
      ],
      "text/plain": [
       "       county  Age_Adjusted_Death_Rate\n",
       "33    Hancock                    236.2\n",
       "12  Claiborne                    237.3\n",
       "10   Cheatham                    239.6\n",
       "75      Scott                    241.0\n",
       "84  Trousdale                    265.5"
      ]
     },
     "execution_count": 41,
     "metadata": {},
     "output_type": "execute_result"
    }
   ],
   "source": [
    "#Find the 5 counties with the highest death rate per 100K people.   Why [-6:-1] did not work?\n",
    "pop_and_cancer[['county','Age_Adjusted_Death_Rate']].sort_values(by = ['Age_Adjusted_Death_Rate']).tail(5)"
   ]
  },
  {
   "cell_type": "markdown",
   "metadata": {},
   "source": [
    "#Create 3 new features in `pop_and_cancer`:  `percent_pop_over_50_2010`, `percent_pop_over_50_2014`, `percent_pop_over_50_2017` by dividing each county's over 50 population for 2010, 2014, and 2017 by that year's total population. After you've verified that these columns were created correctly, drop the 24 columns (8 for each year) that you used to create the new buckets: 'pop2010_50to54',\n",
    "  'pop2014_50to54', 'pop2017_50to54', 'pop2010_55to59', 'pop2014_55to59', 'pop2017_55to59', 'pop2010_60to64', 'pop2014_60to64', 'pop2017_60to64', 'pop2010_65to69', 'pop2014_65to69', 'pop2017_65to69', 'pop2010_70to74', 'pop2014_70to74', 'pop2017_70to74', 'pop2010_75to79', 'pop2014_75to79', 'pop2017_75to79', 'pop2010_80to84', 'pop2014_80to84', 'pop2017_80to84', 'pop2010_85over', 'pop2014_85over', 'pop2017_85over',\n",
    "     - in 2017, for which two counties was the population over age 50 **greater than half** of the total population?\n",
    "     - in 2017, for which five counties was the population over age 50 **less than a third** of the total population?\n",
    "     "
   ]
  },
  {
   "cell_type": "code",
   "execution_count": 42,
   "metadata": {},
   "outputs": [],
   "source": [
    "pop_and_cancer['percent_pop_over_50_2010'] = (pop_and_cancer['pop2010_50to54'] + \n",
    "                                              pop_and_cancer['pop2010_55to59'] + \n",
    "                                              pop_and_cancer['pop2010_60to64'] + \n",
    "                                              pop_and_cancer['pop2010_65to69'] +                  \n",
    "                                              pop_and_cancer['pop2010_70to74'] + \n",
    "                                              pop_and_cancer['pop2010_75to79'] + \n",
    "                                              pop_and_cancer['pop2010_80to84'] +\n",
    "                                              pop_and_cancer['pop2010_85over'])/pop_and_cancer['pop2010all']"
   ]
  },
  {
   "cell_type": "code",
   "execution_count": 43,
   "metadata": {},
   "outputs": [],
   "source": [
    "pop_and_cancer['percent_pop_over_50_2014'] = (pop_and_cancer['pop2014_50to54']+\n",
    "                                              pop_and_cancer['pop2014_55to59']+\n",
    "                                              pop_and_cancer['pop2014_60to64']+\n",
    "                                              pop_and_cancer['pop2014_65to69']+\n",
    "                                              pop_and_cancer['pop2014_70to74']+\n",
    "                                              pop_and_cancer['pop2014_75to79']+\n",
    "                                              pop_and_cancer['pop2014_80to84']+\n",
    "                                              pop_and_cancer['pop2014_85over'])/pop_and_cancer['pop2014all']"
   ]
  },
  {
   "cell_type": "code",
   "execution_count": 44,
   "metadata": {},
   "outputs": [],
   "source": [
    "pop_and_cancer['percent_pop_over_50_2017'] = (pop_and_cancer['pop2017_50to54']+\n",
    "                                              pop_and_cancer['pop2017_55to59']+\n",
    "                                              pop_and_cancer['pop2017_60to64']+\n",
    "                                              pop_and_cancer['pop2017_65to69']+\n",
    "                                              pop_and_cancer['pop2017_70to74']+\n",
    "                                              pop_and_cancer['pop2017_75to79']+\n",
    "                                              pop_and_cancer['pop2017_80to84']+\n",
    "                                              pop_and_cancer['pop2017_85over'])/pop_and_cancer['pop2017all']"
   ]
  },
  {
   "cell_type": "code",
   "execution_count": 45,
   "metadata": {},
   "outputs": [],
   "source": [
    "droplist = [col for col in pop_and_cancer if 'pop2010_' in col or 'pop2014_' in col or 'pop2017_' in col]"
   ]
  },
  {
   "cell_type": "code",
   "execution_count": 46,
   "metadata": {
    "scrolled": true
   },
   "outputs": [],
   "source": [
    "pop_and_cancer = pop_and_cancer.drop(droplist, axis = 1)"
   ]
  },
  {
   "cell_type": "code",
   "execution_count": 48,
   "metadata": {},
   "outputs": [
    {
     "data": {
      "text/html": [
       "<div>\n",
       "<style scoped>\n",
       "    .dataframe tbody tr th:only-of-type {\n",
       "        vertical-align: middle;\n",
       "    }\n",
       "\n",
       "    .dataframe tbody tr th {\n",
       "        vertical-align: top;\n",
       "    }\n",
       "\n",
       "    .dataframe thead th {\n",
       "        text-align: right;\n",
       "    }\n",
       "</style>\n",
       "<table border=\"1\" class=\"dataframe\">\n",
       "  <thead>\n",
       "    <tr style=\"text-align: right;\">\n",
       "      <th></th>\n",
       "      <th>county</th>\n",
       "      <th>pop2010all</th>\n",
       "      <th>pop2014all</th>\n",
       "      <th>pop2017all</th>\n",
       "      <th>median_age_2010</th>\n",
       "      <th>median_age_2014</th>\n",
       "      <th>median_age_2017</th>\n",
       "      <th>FIPS</th>\n",
       "      <th>Met_Health_People_Objective</th>\n",
       "      <th>Age_Adjusted_Death_Rate</th>\n",
       "      <th>...</th>\n",
       "      <th>Upper95CI</th>\n",
       "      <th>AveAnnuaCount</th>\n",
       "      <th>RecentTrend</th>\n",
       "      <th>Recent_5y_Trend</th>\n",
       "      <th>Lower95CI.1</th>\n",
       "      <th>Upper95CI.1</th>\n",
       "      <th>hospice_count</th>\n",
       "      <th>percent_pop_over_50_2010</th>\n",
       "      <th>percent_pop_over_50_2014</th>\n",
       "      <th>percent_pop_over_50_2017</th>\n",
       "    </tr>\n",
       "  </thead>\n",
       "  <tbody>\n",
       "    <tr>\n",
       "      <th>17</th>\n",
       "      <td>Cumberland</td>\n",
       "      <td>56197.0</td>\n",
       "      <td>57836.0</td>\n",
       "      <td>59078.0</td>\n",
       "      <td>48.4</td>\n",
       "      <td>50.0</td>\n",
       "      <td>51.4</td>\n",
       "      <td>47035</td>\n",
       "      <td>No</td>\n",
       "      <td>174.4</td>\n",
       "      <td>...</td>\n",
       "      <td>187.0</td>\n",
       "      <td>182</td>\n",
       "      <td>falling</td>\n",
       "      <td>-0.8</td>\n",
       "      <td>-1.3</td>\n",
       "      <td>-0.3</td>\n",
       "      <td>1</td>\n",
       "      <td>0.479225</td>\n",
       "      <td>0.500035</td>\n",
       "      <td>0.514608</td>\n",
       "    </tr>\n",
       "    <tr>\n",
       "      <th>68</th>\n",
       "      <td>Pickett</td>\n",
       "      <td>5073.0</td>\n",
       "      <td>5068.0</td>\n",
       "      <td>5073.0</td>\n",
       "      <td>47.4</td>\n",
       "      <td>48.8</td>\n",
       "      <td>50.4</td>\n",
       "      <td>47137</td>\n",
       "      <td>Yes</td>\n",
       "      <td>158.7</td>\n",
       "      <td>...</td>\n",
       "      <td>203.9</td>\n",
       "      <td>15</td>\n",
       "      <td>stable</td>\n",
       "      <td>-0.5</td>\n",
       "      <td>-1.8</td>\n",
       "      <td>0.9</td>\n",
       "      <td>0</td>\n",
       "      <td>0.462251</td>\n",
       "      <td>0.483623</td>\n",
       "      <td>0.506012</td>\n",
       "    </tr>\n",
       "  </tbody>\n",
       "</table>\n",
       "<p>2 rows × 21 columns</p>\n",
       "</div>"
      ],
      "text/plain": [
       "        county  pop2010all  pop2014all  pop2017all  median_age_2010  \\\n",
       "17  Cumberland     56197.0     57836.0     59078.0             48.4   \n",
       "68     Pickett      5073.0      5068.0      5073.0             47.4   \n",
       "\n",
       "    median_age_2014  median_age_2017   FIPS Met_Health_People_Objective  \\\n",
       "17             50.0             51.4  47035                          No   \n",
       "68             48.8             50.4  47137                         Yes   \n",
       "\n",
       "    Age_Adjusted_Death_Rate            ...             Upper95CI  \\\n",
       "17                    174.4            ...                 187.0   \n",
       "68                    158.7            ...                 203.9   \n",
       "\n",
       "    AveAnnuaCount  RecentTrend Recent_5y_Trend  Lower95CI.1  Upper95CI.1  \\\n",
       "17            182      falling            -0.8         -1.3         -0.3   \n",
       "68             15       stable            -0.5         -1.8          0.9   \n",
       "\n",
       "    hospice_count  percent_pop_over_50_2010  percent_pop_over_50_2014  \\\n",
       "17              1                  0.479225                  0.500035   \n",
       "68              0                  0.462251                  0.483623   \n",
       "\n",
       "    percent_pop_over_50_2017  \n",
       "17                  0.514608  \n",
       "68                  0.506012  \n",
       "\n",
       "[2 rows x 21 columns]"
      ]
     },
     "execution_count": 48,
     "metadata": {},
     "output_type": "execute_result"
    }
   ],
   "source": [
    "high = pop_and_cancer.percent_pop_over_50_2017 > 0.5\n",
    "pop_and_cancer[high]"
   ]
  },
  {
   "cell_type": "code",
   "execution_count": 49,
   "metadata": {},
   "outputs": [
    {
     "data": {
      "text/html": [
       "<div>\n",
       "<style scoped>\n",
       "    .dataframe tbody tr th:only-of-type {\n",
       "        vertical-align: middle;\n",
       "    }\n",
       "\n",
       "    .dataframe tbody tr th {\n",
       "        vertical-align: top;\n",
       "    }\n",
       "\n",
       "    .dataframe thead th {\n",
       "        text-align: right;\n",
       "    }\n",
       "</style>\n",
       "<table border=\"1\" class=\"dataframe\">\n",
       "  <thead>\n",
       "    <tr style=\"text-align: right;\">\n",
       "      <th></th>\n",
       "      <th>county</th>\n",
       "      <th>pop2010all</th>\n",
       "      <th>pop2014all</th>\n",
       "      <th>pop2017all</th>\n",
       "      <th>median_age_2010</th>\n",
       "      <th>median_age_2014</th>\n",
       "      <th>median_age_2017</th>\n",
       "      <th>FIPS</th>\n",
       "      <th>Met_Health_People_Objective</th>\n",
       "      <th>Age_Adjusted_Death_Rate</th>\n",
       "      <th>...</th>\n",
       "      <th>Upper95CI</th>\n",
       "      <th>AveAnnuaCount</th>\n",
       "      <th>RecentTrend</th>\n",
       "      <th>Recent_5y_Trend</th>\n",
       "      <th>Lower95CI.1</th>\n",
       "      <th>Upper95CI.1</th>\n",
       "      <th>hospice_count</th>\n",
       "      <th>percent_pop_over_50_2010</th>\n",
       "      <th>percent_pop_over_50_2014</th>\n",
       "      <th>percent_pop_over_50_2017</th>\n",
       "    </tr>\n",
       "  </thead>\n",
       "  <tbody>\n",
       "    <tr>\n",
       "      <th>18</th>\n",
       "      <td>Davidson</td>\n",
       "      <td>627973.0</td>\n",
       "      <td>670314.0</td>\n",
       "      <td>691243.0</td>\n",
       "      <td>34.0</td>\n",
       "      <td>34.4</td>\n",
       "      <td>34.4</td>\n",
       "      <td>47037</td>\n",
       "      <td>No</td>\n",
       "      <td>184.7</td>\n",
       "      <td>...</td>\n",
       "      <td>189.7</td>\n",
       "      <td>1137</td>\n",
       "      <td>falling</td>\n",
       "      <td>-1.5</td>\n",
       "      <td>-1.7</td>\n",
       "      <td>-1.2</td>\n",
       "      <td>8</td>\n",
       "      <td>0.280275</td>\n",
       "      <td>0.291642</td>\n",
       "      <td>0.293532</td>\n",
       "    </tr>\n",
       "    <tr>\n",
       "      <th>62</th>\n",
       "      <td>Montgomery</td>\n",
       "      <td>173168.0</td>\n",
       "      <td>188979.0</td>\n",
       "      <td>200182.0</td>\n",
       "      <td>30.0</td>\n",
       "      <td>30.3</td>\n",
       "      <td>30.8</td>\n",
       "      <td>47125</td>\n",
       "      <td>No</td>\n",
       "      <td>188.4</td>\n",
       "      <td>...</td>\n",
       "      <td>199.5</td>\n",
       "      <td>247</td>\n",
       "      <td>falling</td>\n",
       "      <td>-1.0</td>\n",
       "      <td>-1.5</td>\n",
       "      <td>-0.5</td>\n",
       "      <td>1</td>\n",
       "      <td>0.223956</td>\n",
       "      <td>0.231084</td>\n",
       "      <td>0.239042</td>\n",
       "    </tr>\n",
       "    <tr>\n",
       "      <th>74</th>\n",
       "      <td>Rutherford</td>\n",
       "      <td>263747.0</td>\n",
       "      <td>288608.0</td>\n",
       "      <td>317157.0</td>\n",
       "      <td>32.3</td>\n",
       "      <td>33.3</td>\n",
       "      <td>33.7</td>\n",
       "      <td>47149</td>\n",
       "      <td>No</td>\n",
       "      <td>170.3</td>\n",
       "      <td>...</td>\n",
       "      <td>178.4</td>\n",
       "      <td>380</td>\n",
       "      <td>falling</td>\n",
       "      <td>-1.4</td>\n",
       "      <td>-1.7</td>\n",
       "      <td>-1.1</td>\n",
       "      <td>1</td>\n",
       "      <td>0.241447</td>\n",
       "      <td>0.263492</td>\n",
       "      <td>0.270639</td>\n",
       "    </tr>\n",
       "    <tr>\n",
       "      <th>78</th>\n",
       "      <td>Shelby</td>\n",
       "      <td>928552.0</td>\n",
       "      <td>938434.0</td>\n",
       "      <td>936961.0</td>\n",
       "      <td>34.6</td>\n",
       "      <td>35.1</td>\n",
       "      <td>35.6</td>\n",
       "      <td>47157</td>\n",
       "      <td>No</td>\n",
       "      <td>195.0</td>\n",
       "      <td>...</td>\n",
       "      <td>199.2</td>\n",
       "      <td>1767</td>\n",
       "      <td>falling</td>\n",
       "      <td>-1.1</td>\n",
       "      <td>-1.2</td>\n",
       "      <td>-1.0</td>\n",
       "      <td>5</td>\n",
       "      <td>0.289482</td>\n",
       "      <td>0.309197</td>\n",
       "      <td>0.319782</td>\n",
       "    </tr>\n",
       "    <tr>\n",
       "      <th>84</th>\n",
       "      <td>Trousdale</td>\n",
       "      <td>7874.0</td>\n",
       "      <td>7993.0</td>\n",
       "      <td>10083.0</td>\n",
       "      <td>39.7</td>\n",
       "      <td>40.7</td>\n",
       "      <td>35.6</td>\n",
       "      <td>47169</td>\n",
       "      <td>No</td>\n",
       "      <td>265.5</td>\n",
       "      <td>...</td>\n",
       "      <td>319.1</td>\n",
       "      <td>24</td>\n",
       "      <td>stable</td>\n",
       "      <td>0.0</td>\n",
       "      <td>-1.3</td>\n",
       "      <td>1.3</td>\n",
       "      <td>0</td>\n",
       "      <td>0.349505</td>\n",
       "      <td>0.372576</td>\n",
       "      <td>0.316771</td>\n",
       "    </tr>\n",
       "  </tbody>\n",
       "</table>\n",
       "<p>5 rows × 21 columns</p>\n",
       "</div>"
      ],
      "text/plain": [
       "        county  pop2010all  pop2014all  pop2017all  median_age_2010  \\\n",
       "18    Davidson    627973.0    670314.0    691243.0             34.0   \n",
       "62  Montgomery    173168.0    188979.0    200182.0             30.0   \n",
       "74  Rutherford    263747.0    288608.0    317157.0             32.3   \n",
       "78      Shelby    928552.0    938434.0    936961.0             34.6   \n",
       "84   Trousdale      7874.0      7993.0     10083.0             39.7   \n",
       "\n",
       "    median_age_2014  median_age_2017   FIPS Met_Health_People_Objective  \\\n",
       "18             34.4             34.4  47037                          No   \n",
       "62             30.3             30.8  47125                          No   \n",
       "74             33.3             33.7  47149                          No   \n",
       "78             35.1             35.6  47157                          No   \n",
       "84             40.7             35.6  47169                          No   \n",
       "\n",
       "    Age_Adjusted_Death_Rate            ...             Upper95CI  \\\n",
       "18                    184.7            ...                 189.7   \n",
       "62                    188.4            ...                 199.5   \n",
       "74                    170.3            ...                 178.4   \n",
       "78                    195.0            ...                 199.2   \n",
       "84                    265.5            ...                 319.1   \n",
       "\n",
       "    AveAnnuaCount  RecentTrend Recent_5y_Trend  Lower95CI.1  Upper95CI.1  \\\n",
       "18           1137      falling            -1.5         -1.7         -1.2   \n",
       "62            247      falling            -1.0         -1.5         -0.5   \n",
       "74            380      falling            -1.4         -1.7         -1.1   \n",
       "78           1767      falling            -1.1         -1.2         -1.0   \n",
       "84             24       stable             0.0         -1.3          1.3   \n",
       "\n",
       "    hospice_count  percent_pop_over_50_2010  percent_pop_over_50_2014  \\\n",
       "18              8                  0.280275                  0.291642   \n",
       "62              1                  0.223956                  0.231084   \n",
       "74              1                  0.241447                  0.263492   \n",
       "78              5                  0.289482                  0.309197   \n",
       "84              0                  0.349505                  0.372576   \n",
       "\n",
       "    percent_pop_over_50_2017  \n",
       "18                  0.293532  \n",
       "62                  0.239042  \n",
       "74                  0.270639  \n",
       "78                  0.319782  \n",
       "84                  0.316771  \n",
       "\n",
       "[5 rows x 21 columns]"
      ]
     },
     "execution_count": 49,
     "metadata": {},
     "output_type": "execute_result"
    }
   ],
   "source": [
    "low = pop_and_cancer['percent_pop_over_50_2017'] < 0.33\n",
    "pop_and_cancer[low]"
   ]
  },
  {
   "cell_type": "code",
   "execution_count": 50,
   "metadata": {},
   "outputs": [
    {
     "data": {
      "text/plain": [
       "Text(0.5,1,'Relation between Cancer Death and Aging')"
      ]
     },
     "execution_count": 50,
     "metadata": {},
     "output_type": "execute_result"
    },
    {
     "data": {
      "image/png": "[encoded data removed]",
      "text/plain": [
       "<Figure size 432x288 with 1 Axes>"
      ]
     },
     "metadata": {},
     "output_type": "display_data"
    }
   ],
   "source": [
    "#create a scatterplot to show the relationship between cancer deaths and the percentage of population over age 50 in TN counties. Use the 2017 population data. Be sure to label axes and add a title.\n",
    "plt.scatter(pop_and_cancer['percent_pop_over_50_2017'],pop_and_cancer['Age_Adjusted_Death_Rate'])\n",
    "plt.xlabel('Percent_pop_over_50_2017')\n",
    "plt.ylabel('Age_Adjusted_Death_Rate')\n",
    "plt.title('Relation between Cancer Death and Aging')"
   ]
  },
  {
   "cell_type": "code",
   "execution_count": 58,
   "metadata": {},
   "outputs": [
    {
     "data": {
      "text/plain": [
       "<seaborn.axisgrid.FacetGrid at 0x1a1c91b518>"
      ]
     },
     "execution_count": 58,
     "metadata": {},
     "output_type": "execute_result"
    },
    {
     "data": {
      "image/png": "[encoded data removed]",
      "text/plain": [
       "<Figure size 360x360 with 1 Axes>"
      ]
     },
     "metadata": {},
     "output_type": "display_data"
    }
   ],
   "source": [
    "sns.lmplot(x = 'percent_pop_over_50_2017', y = 'Age_Adjusted_Death_Rate', data = pop_and_cancer)"
   ]
  },
  {
   "cell_type": "code",
   "execution_count": 51,
   "metadata": {},
   "outputs": [],
   "source": [
    "#create another new feature, `normalized_hospice_rate` in `pop_and_cancer`. Divide the count of hospices by the 2017 total population and multiply the result by 100,000.\n",
    "pop_and_cancer['normalized_hospice_rate'] = pop_and_cancer['hospice_count']/pop_and_cancer['pop2017all']*10000"
   ]
  },
  {
   "cell_type": "code",
   "execution_count": 52,
   "metadata": {
    "scrolled": false
   },
   "outputs": [
    {
     "data": {
      "text/plain": [
       "Text(0,0.5,'Normalized_Hospice_Rate')"
      ]
     },
     "execution_count": 52,
     "metadata": {},
     "output_type": "execute_result"
    },
    {
     "data": {
      "image/png": "[encoded data removed]",
      "text/plain": [
       "<Figure size 432x288 with 1 Axes>"
      ]
     },
     "metadata": {},
     "output_type": "display_data"
    }
   ],
   "source": [
    "#create a scatterplot to examine the relationship between population over 50 and the normalized hospice rate in TN counties.\n",
    "plt.scatter(pop_and_cancer['percent_pop_over_50_2017'],pop_and_cancer['normalized_hospice_rate'])\n",
    "plt.xlabel('Percent_pop_over_50_2017')\n",
    "plt.ylabel('Normalized_Hospice_Rate')"
   ]
  },
  {
   "cell_type": "code",
   "execution_count": 59,
   "metadata": {},
   "outputs": [
    {
     "data": {
      "text/plain": [
       "<seaborn.axisgrid.FacetGrid at 0x1a1d885da0>"
      ]
     },
     "execution_count": 59,
     "metadata": {},
     "output_type": "execute_result"
    },
    {
     "data": {
      "image/png": "[encoded data removed]",
      "text/plain": [
       "<Figure size 360x360 with 1 Axes>"
      ]
     },
     "metadata": {},
     "output_type": "display_data"
    }
   ],
   "source": [
    "sns.lmplot(x = 'percent_pop_over_50_2017', y = 'normalized_hospice_rate', data = pop_and_cancer)"
   ]
  },
  {
   "cell_type": "code",
   "execution_count": 53,
   "metadata": {},
   "outputs": [
    {
     "data": {
      "text/plain": [
       "<matplotlib.axes._subplots.AxesSubplot at 0x1a1d0ae278>"
      ]
     },
     "execution_count": 53,
     "metadata": {},
     "output_type": "execute_result"
    },
    {
     "data": {
      "image/png": "[encoded data removed]",
      "text/plain": [
       "<Figure size 432x288 with 1 Axes>"
      ]
     },
     "metadata": {},
     "output_type": "display_data"
    }
   ],
   "source": [
    "#Use seaborn to create a boxplot normalized hospice rates, with nested grouping by the Healthy People cancer goal categories.\n",
    "sns.boxplot(x = 'Met_Health_People_Objective', y = 'normalized_hospice_rate',data = pop_and_cancer)"
   ]
  },
  {
   "cell_type": "code",
   "execution_count": null,
   "metadata": {},
   "outputs": [],
   "source": []
  }
 ],
 "metadata": {
  "kernelspec": {
   "display_name": "Python 3",
   "language": "python",
   "name": "python3"
  },
  "language_info": {
   "codemirror_mode": {
    "name": "ipython",
    "version": 3
   },
   "file_extension": ".py",
   "mimetype": "text/x-python",
   "name": "python",
   "nbconvert_exporter": "python",
   "pygments_lexer": "ipython3",
   "version": "3.6.5"
  }
 },
 "nbformat": 4,
 "nbformat_minor": 2
}
